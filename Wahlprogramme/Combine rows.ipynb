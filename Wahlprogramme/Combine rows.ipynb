{
 "cells": [
  {
   "cell_type": "code",
   "execution_count": null,
   "id": "cdab9b2a",
   "metadata": {},
   "outputs": [],
   "source": [
    "%%capture\n",
    "!python -m spacy download de_core_news_sm"
   ]
  },
  {
   "cell_type": "code",
   "execution_count": 1,
   "id": "1c4e8d4d",
   "metadata": {},
   "outputs": [],
   "source": [
    "import pandas as pd\n",
    "import numpy as np\n",
    "import re\n",
    "import spacy\n",
    "\n",
    "nlp = spacy.load('de_core_news_sm')"
   ]
  },
  {
   "cell_type": "code",
   "execution_count": 2,
   "id": "0f35e932",
   "metadata": {},
   "outputs": [],
   "source": [
    "parties = ['spd', 'grüne', 'fdp', 'linke', 'afd']"
   ]
  },
  {
   "cell_type": "code",
   "execution_count": 60,
   "id": "2788060f",
   "metadata": {},
   "outputs": [],
   "source": [
    "df = pd.read_excel(f\"Excel/{parties[0]} 2021.xlsx\", index_col=0)"
   ]
  },
  {
   "cell_type": "code",
   "execution_count": 61,
   "id": "a42f9e35",
   "metadata": {},
   "outputs": [
    {
     "data": {
      "text/html": [
       "<div>\n",
       "<style scoped>\n",
       "    .dataframe tbody tr th:only-of-type {\n",
       "        vertical-align: middle;\n",
       "    }\n",
       "\n",
       "    .dataframe tbody tr th {\n",
       "        vertical-align: top;\n",
       "    }\n",
       "\n",
       "    .dataframe thead th {\n",
       "        text-align: right;\n",
       "    }\n",
       "</style>\n",
       "<table border=\"1\" class=\"dataframe\">\n",
       "  <thead>\n",
       "    <tr style=\"text-align: right;\">\n",
       "      <th></th>\n",
       "      <th>text</th>\n",
       "      <th>N Wörter</th>\n",
       "      <th>Gelbe Zeile (A: Gehört Alleine, H: Zur Zeile darüber, R: Zur Zeile darunter)</th>\n",
       "    </tr>\n",
       "  </thead>\n",
       "  <tbody>\n",
       "    <tr>\n",
       "      <th>0</th>\n",
       "      <td>Gelingt es uns, die Arbeit und den Wohlstand v...</td>\n",
       "      <td>28</td>\n",
       "      <td>NaN</td>\n",
       "    </tr>\n",
       "    <tr>\n",
       "      <th>1</th>\n",
       "      <td>Überwinden wir die wachsende Ungleichheit? Ode...</td>\n",
       "      <td>36</td>\n",
       "      <td>NaN</td>\n",
       "    </tr>\n",
       "    <tr>\n",
       "      <th>2</th>\n",
       "      <td>Wird es uns gelingen, unser Leben und Wirtscha...</td>\n",
       "      <td>17</td>\n",
       "      <td>NaN</td>\n",
       "    </tr>\n",
       "    <tr>\n",
       "      <th>3</th>\n",
       "      <td>Nehmen wir die Gestaltung des digitalen Wandel...</td>\n",
       "      <td>29</td>\n",
       "      <td>NaN</td>\n",
       "    </tr>\n",
       "    <tr>\n",
       "      <th>4</th>\n",
       "      <td>Sorgen wir für gleiche Teilhabe und mehr Zusam...</td>\n",
       "      <td>27</td>\n",
       "      <td>NaN</td>\n",
       "    </tr>\n",
       "  </tbody>\n",
       "</table>\n",
       "</div>"
      ],
      "text/plain": [
       "                                                text  N Wörter  \\\n",
       "0  Gelingt es uns, die Arbeit und den Wohlstand v...        28   \n",
       "1  Überwinden wir die wachsende Ungleichheit? Ode...        36   \n",
       "2  Wird es uns gelingen, unser Leben und Wirtscha...        17   \n",
       "3  Nehmen wir die Gestaltung des digitalen Wandel...        29   \n",
       "4  Sorgen wir für gleiche Teilhabe und mehr Zusam...        27   \n",
       "\n",
       "  Gelbe Zeile (A: Gehört Alleine, H: Zur Zeile darüber, R: Zur Zeile darunter)  \n",
       "0                                                NaN                            \n",
       "1                                                NaN                            \n",
       "2                                                NaN                            \n",
       "3                                                NaN                            \n",
       "4                                                NaN                            "
      ]
     },
     "execution_count": 61,
     "metadata": {},
     "output_type": "execute_result"
    }
   ],
   "source": [
    "df.head()"
   ]
  },
  {
   "cell_type": "code",
   "execution_count": 62,
   "id": "459fd790",
   "metadata": {},
   "outputs": [],
   "source": [
    "for i in range(len(df.text)):\n",
    "    if df.iloc[i, 2] == \"H\":\n",
    "        df.iloc[i-1, 0] = re.sub(\"\\.$\", \"\", df.iloc[i-1, 0])[:-1] + \" \" + df.iloc[i, 0][0].lower() + df.iloc[i, 0][1:]\n",
    "        df.iloc[i, 0] = np.nan\n",
    "    elif df.iloc[i, 2] == \"R\":\n",
    "        df.iloc[i+1, 0] = re.sub(\"\\.$\", \"\", df.iloc[i, 0]) + \" \" + df.iloc[i+1, 0][0].lower() + df.iloc[i+1, 0][1:]\n",
    "        df.iloc[i, 0] = np.nan\n",
    "    elif df.iloc[i, 2] == \"F\":\n",
    "        df.iloc[i, 0] = np.nan\n",
    "    elif df.iloc[i, 2] == \"X\":\n",
    "        df.iloc[i, 0] = np.nan"
   ]
  },
  {
   "cell_type": "code",
   "execution_count": 64,
   "id": "b629ad6d",
   "metadata": {},
   "outputs": [],
   "source": [
    "df = df.dropna(subset=[\"text\"])"
   ]
  },
  {
   "cell_type": "code",
   "execution_count": 65,
   "id": "61358abd",
   "metadata": {},
   "outputs": [],
   "source": [
    "df = df.reset_index(drop = True)"
   ]
  },
  {
   "cell_type": "code",
   "execution_count": 68,
   "id": "68cfcd97",
   "metadata": {},
   "outputs": [],
   "source": [
    "df.to_csv(\"CSV Combined/SPD 2021.csv\", sep=\";\")"
   ]
  },
  {
   "cell_type": "code",
   "execution_count": 3,
   "id": "d5819b73",
   "metadata": {},
   "outputs": [
    {
     "name": "stdout",
     "output_type": "stream",
     "text": [
      "Work spd\n",
      "Work grüne\n",
      "Work fdp\n",
      "Work linke\n",
      "Work afd\n"
     ]
    }
   ],
   "source": [
    "for party in parties:\n",
    "    df = pd.read_excel(f\"Excel/{party} 2021.xlsx\", index_col=0)\n",
    "    print(\"Work\", party)\n",
    "    \n",
    "    for i in range(len(df.text)):\n",
    "        if df.iloc[i, 2] == \"H\":\n",
    "            add_sentence = df.iloc[i, 0]\n",
    "            doc = nlp(add_sentence)\n",
    "            if doc[0].pos_ != \"Noun\":\n",
    "                add_sentence = df.iloc[i, 0][0].lower() + df.iloc[i, 0][1:]\n",
    "            \n",
    "            df.iloc[i-1, 0] = re.sub(\"\\.$\", \"\", str(df.iloc[i-1, 0])) + \" \" + add_sentence\n",
    "            df.iloc[i, 0] = np.nan\n",
    "        elif df.iloc[i, 2] == \"R\":\n",
    "            add_sentence = df.iloc[i+1, 0]\n",
    "            doc = nlp(add_sentence)\n",
    "            if doc[0].pos_ != \"Noun\":\n",
    "                add_sentence = df.iloc[i+1, 0][0].lower() + df.iloc[i+1, 0][1:]\n",
    "                \n",
    "            df.iloc[i+1, 0] = re.sub(\"\\.$\", \"\", df.iloc[i, 0]) + \" \" + add_sentence\n",
    "            df.iloc[i, 0] = np.nan\n",
    "        elif df.iloc[i, 2] == \"F\":\n",
    "            df.iloc[i, 0] = np.nan\n",
    "        elif df.iloc[i, 2] == \"X\":\n",
    "            df.iloc[i, 0] = np.nan\n",
    "    \n",
    "    df = df.dropna(subset=[\"text\"])\n",
    "    df = df.reset_index(drop = True)\n",
    "    df.text = df.text.str.lstrip()\n",
    "    df.text = df.text.str.replace('?.', '?',regex=False)\n",
    "    df.text = df.text.str.replace(',.', ',',regex=False)\n",
    "    df.text = df.text.str.replace('!.', '!',regex=False)\n",
    "    df = df.iloc[:, :1]\n",
    "    df.to_csv(f\"CSV Combined/{party} 2021.csv\")"
   ]
  },
  {
   "cell_type": "code",
   "execution_count": 4,
   "id": "955c1963",
   "metadata": {},
   "outputs": [],
   "source": [
    "df = pd.read_csv(f\"CSV Combined/{parties[0]} 2021.csv\", index_col=0)"
   ]
  },
  {
   "cell_type": "code",
   "execution_count": 5,
   "id": "84c2bc56",
   "metadata": {},
   "outputs": [
    {
     "data": {
      "text/html": [
       "<div>\n",
       "<style scoped>\n",
       "    .dataframe tbody tr th:only-of-type {\n",
       "        vertical-align: middle;\n",
       "    }\n",
       "\n",
       "    .dataframe tbody tr th {\n",
       "        vertical-align: top;\n",
       "    }\n",
       "\n",
       "    .dataframe thead th {\n",
       "        text-align: right;\n",
       "    }\n",
       "</style>\n",
       "<table border=\"1\" class=\"dataframe\">\n",
       "  <thead>\n",
       "    <tr style=\"text-align: right;\">\n",
       "      <th></th>\n",
       "      <th>text</th>\n",
       "    </tr>\n",
       "  </thead>\n",
       "  <tbody>\n",
       "    <tr>\n",
       "      <th>0</th>\n",
       "      <td>Gelingt es uns, die Arbeit und den Wohlstand v...</td>\n",
       "    </tr>\n",
       "    <tr>\n",
       "      <th>1</th>\n",
       "      <td>Überwinden wir die wachsende Ungleichheit? Ode...</td>\n",
       "    </tr>\n",
       "    <tr>\n",
       "      <th>2</th>\n",
       "      <td>Wird es uns gelingen, unser Leben und Wirtscha...</td>\n",
       "    </tr>\n",
       "    <tr>\n",
       "      <th>3</th>\n",
       "      <td>Nehmen wir die Gestaltung des digitalen Wandel...</td>\n",
       "    </tr>\n",
       "    <tr>\n",
       "      <th>4</th>\n",
       "      <td>Sorgen wir für gleiche Teilhabe und mehr Zusam...</td>\n",
       "    </tr>\n",
       "  </tbody>\n",
       "</table>\n",
       "</div>"
      ],
      "text/plain": [
       "                                                text\n",
       "0  Gelingt es uns, die Arbeit und den Wohlstand v...\n",
       "1  Überwinden wir die wachsende Ungleichheit? Ode...\n",
       "2  Wird es uns gelingen, unser Leben und Wirtscha...\n",
       "3  Nehmen wir die Gestaltung des digitalen Wandel...\n",
       "4  Sorgen wir für gleiche Teilhabe und mehr Zusam..."
      ]
     },
     "execution_count": 5,
     "metadata": {},
     "output_type": "execute_result"
    }
   ],
   "source": [
    "df.head()"
   ]
  },
  {
   "cell_type": "code",
   "execution_count": null,
   "id": "5a4226a1",
   "metadata": {},
   "outputs": [],
   "source": []
  }
 ],
 "metadata": {
  "kernelspec": {
   "display_name": "Python 3 (ipykernel)",
   "language": "python",
   "name": "python3"
  },
  "language_info": {
   "codemirror_mode": {
    "name": "ipython",
    "version": 3
   },
   "file_extension": ".py",
   "mimetype": "text/x-python",
   "name": "python",
   "nbconvert_exporter": "python",
   "pygments_lexer": "ipython3",
   "version": "3.9.7"
  }
 },
 "nbformat": 4,
 "nbformat_minor": 5
}
