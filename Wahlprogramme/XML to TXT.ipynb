{
 "cells": [
  {
   "cell_type": "code",
   "execution_count": 2,
   "id": "110853be",
   "metadata": {},
   "outputs": [],
   "source": [
    "import xml.etree.ElementTree as ET\n",
    "import re\n",
    "import pandas as pd"
   ]
  },
  {
   "cell_type": "code",
   "execution_count": 31,
   "id": "1baa7554",
   "metadata": {},
   "outputs": [],
   "source": [
    "tree = ET.parse('XML/linke.xml')\n",
    "root = tree.getroot()"
   ]
  },
  {
   "cell_type": "code",
   "execution_count": 32,
   "id": "3c60021d",
   "metadata": {},
   "outputs": [],
   "source": [
    "data = []\n",
    "for page in root[1]:\n",
    "    for p in page:\n",
    "        data.append(p.text)"
   ]
  },
  {
   "cell_type": "code",
   "execution_count": 33,
   "id": "60a2b000",
   "metadata": {},
   "outputs": [],
   "source": [
    "data_rlvt = []\n",
    "for sentence in data:\n",
    "    if sentence != None and len(sentence.split(\" \")) > 10:\n",
    "        data_rlvt.append(sentence)\n",
    "        \n",
    "data_str = \" \".join(data_rlvt)"
   ]
  },
  {
   "cell_type": "code",
   "execution_count": 34,
   "id": "c55445fe",
   "metadata": {},
   "outputs": [],
   "source": [
    "def cleaning(text):\n",
    "    #text = re.sub('([A-Z]{2,})', '', text)\n",
    "    #text = re.sub('\\n[\\W\\d\\s]*', '\\n', text)\n",
    "    #text = re.sub('^[\\W\\d\\s]*', '', text)\n",
    "    text = re.sub('\\xad', '-', text)\n",
    "    text = re.sub('-\\n', '', text)\n",
    "    #text = re.sub('Seite\\s\\d*\\svon\\s\\d*', '', text)\n",
    "    text = text.replace('>',\"\")\n",
    "    text = text.replace(\"•\",\"\")\n",
    "    text = re.sub('\\n+', '', text)\n",
    "    text = re.sub(\"\\s\\s+\" , \" \", text)\n",
    "    text = text.replace(\" .\",\".\")\n",
    "    text = re.sub('[.]\\s*', '. ', text)\n",
    "    text = re.sub('N\\u2004', '', text)\n",
    "    text = re.sub('n\\u2004', '', text)\n",
    "    text = text.lstrip()\n",
    "    text = text.rstrip()\n",
    "    text = re.sub('[.]+', '.', text)\n",
    "    return text"
   ]
  },
  {
   "cell_type": "code",
   "execution_count": 35,
   "id": "0f2b65d3",
   "metadata": {},
   "outputs": [],
   "source": [
    "for i in range(len(data_rlvt)):\n",
    "    data_rlvt[i] = cleaning(data_rlvt[i])"
   ]
  },
  {
   "cell_type": "code",
   "execution_count": 46,
   "id": "f578b5a9",
   "metadata": {
    "scrolled": true
   },
   "outputs": [
    {
     "data": {
      "text/plain": [
       "['Jedes Jahr werden Zehntausende junge Menschen in Deutschland bei der Suche nach einem Ausbildungsplatz vertröstet. Sie finden keinen Ausbildungsplatz mit Perspektive oder hängen in endlosen Warteschleifen fest. Fast zwei Millionen junge Menschen haben keine Berufsausbildung. Besonders Hauptschüler*innen und Migrant*innen werden benachteiligt. Die Wirtschaft unterschreitet die Zielmarke von 500 000 jährlich zu schaffenden Ausbildungsplätzen. Viele Arbeitgeber klagen über mangelnde Fachkräfte und Aus bildungsbetriebe finden keine Azubis. Aber: Der Fachkräftemangel ist hausgemacht, weil viele potenzielle Azubis als nicht ausbildungsreif eingestuft und in Warteschleifen »geparkt« werden. Auf der anderen Seite klagt mehr als die Hälfte der Auszubildenden über zu hohe Belastung, viele gehen auch krank zur Arbeit oder werden als billige Arbeitskräfte ausgebeutet. Wegen der Pandemie und finanzieller Schieflage mancher Unternehmen haben viele Ausbildungsbetriebe ihre Ausbildung eingestellt oder deutlich gekürzt. Damit verschärft sich die Lage auf dem Ausbildungsmarkt. Wir wollen, dass alle, die eine Ausbildung begonnen haben, sie auch beenden können. Dafür muss der Bund Mittel und Möglichkeiten bereitstellen. Die Bedingungen und die Qualität der Ausbildung müssen verbessert und Ausbildungsberufe aufgewertet werden. Auch hier benötigen wir mehr Personal. Laut der Gewerkschaft Erziehung und Wissenschaft (GEW) müssen an den berufsbildenden Schulen bis zum Jahr 2030 160 000 Lehrkräfte eingestellt werden, um den Bedarf zu decken.',\n",
       " 'Jetzt gilt erst recht: DIE LINKE setzt sich für das Recht auf eine gebührenfreie und vollqualifizierende Ausbildung für alle ein. Anonymisierte Bewerbungsverfahren sollen sicherstellen, dass alle die gleichen Chancen auf eine Ausbildung haben.',\n",
       " 'Auszubildende brauchen eine Ausbildungsvergütung, die zum Leben unabhängig von den Eltern reicht. Wir fordern eine Mindestausbildungsvergütung, die sich aus 80 Prozent der durchschnittlichen tariflichen Ausbildungsvergütung aller Branchen des jeweiligen Ausbildungsjahres ergibt. Wir unterstützen die Gewerkschaften und Gewerkschaftsjugenden bei ihrem Kampf für bessere tarifvertragliche Lösungen. Die Ausbildung in den Berufen, die nicht dual geregelt ist also zum Beispiel in allen Sozial-, Gesundheits- und Erziehungsberufen, muss besser finanziert werden. Schulgeld soll grundsätzlich entfallen und ein am Tarif orientiertes Ausbildungsgeld gezahlt werden. Wir wollen den Bau öffentlicher Auszubildendenwohnheime fördern, insbeson- dere im ländlichen Raum.',\n",
       " 'DIE LINKE fordert die unbefristete Übernahme nach Ausbildungsende und den Wegfall der Probezeit bei Übernahme im selben Betrieb.',\n",
       " 'Wir wollen eine solidarische Umlagefinanzierung, die alle Betriebe in die Pflicht nimmt, damit ausreichend duale und quali tativ hochwertige Ausbildungsplätze geschaffen werden.']"
      ]
     },
     "execution_count": 46,
     "metadata": {},
     "output_type": "execute_result"
    }
   ],
   "source": [
    "data_rlvt[400:405]"
   ]
  },
  {
   "cell_type": "code",
   "execution_count": 44,
   "id": "bbbea8ac",
   "metadata": {},
   "outputs": [
    {
     "name": "stdout",
     "output_type": "stream",
     "text": [
      "1421\n"
     ]
    }
   ],
   "source": [
    "for i in range(len(data_rlvt)):\n",
    "    if len(data_rlvt[i]) > 0:\n",
    "        if data_rlvt[i][-1] != \".\":\n",
    "            try:\n",
    "                if len(data_rlvt[i+1]) > 0:\n",
    "                        data_rlvt[i] = data_rlvt[i] + \" \" + data_rlvt[i+1]\n",
    "                        data_rlvt[i+1] = \"\"\n",
    "            except:\n",
    "                print(i)\n",
    "                    \n",
    "    if len(data_rlvt[i]) > 0:\n",
    "        if data_rlvt[i][-1] == \"-\":\n",
    "            try:\n",
    "                if len(data_rlvt[i+1]) > 0:\n",
    "                        data_rlvt[i] = data_rlvt[i][:-1] + data_rlvt[i+1]\n",
    "                        data_rlvt[i+1] = \"\"\n",
    "            except:\n",
    "                pass\n",
    "                    \n",
    "data_rlvt = [sentence for sentence in data_rlvt if len(sentence) > 0]"
   ]
  },
  {
   "cell_type": "code",
   "execution_count": 29,
   "id": "7c264935",
   "metadata": {
    "scrolled": true
   },
   "outputs": [],
   "source": [
    "#data_rlvt"
   ]
  },
  {
   "cell_type": "code",
   "execution_count": 6,
   "id": "6a6616f8",
   "metadata": {},
   "outputs": [],
   "source": [
    "# for cdu only\n",
    "data_rlvt = cleaning(data_str)"
   ]
  },
  {
   "cell_type": "code",
   "execution_count": 7,
   "id": "7059d8af",
   "metadata": {},
   "outputs": [],
   "source": [
    "data = data_rlvt.split(\".\")\n",
    "data_rlvt = []"
   ]
  },
  {
   "cell_type": "code",
   "execution_count": 8,
   "id": "d4cb9434",
   "metadata": {},
   "outputs": [],
   "source": [
    "for i in range(0, len(data), 5):\n",
    "    data_rlvt.append(\".\".join(data[i:i+5]))"
   ]
  },
  {
   "cell_type": "code",
   "execution_count": 9,
   "id": "e427619b",
   "metadata": {},
   "outputs": [],
   "source": [
    "for i in range(0, len(data_rlvt)):\n",
    "    data_rlvt[i] = data_rlvt[i].lstrip() + \".\"\n",
    "# end of cdu only"
   ]
  },
  {
   "cell_type": "code",
   "execution_count": 47,
   "id": "4824e971",
   "metadata": {},
   "outputs": [],
   "source": [
    "df = pd.DataFrame.from_dict({\"text\": data_rlvt})"
   ]
  },
  {
   "cell_type": "code",
   "execution_count": 48,
   "id": "b7dc6263",
   "metadata": {},
   "outputs": [],
   "source": [
    "df.to_csv(\"linke 2021.csv\")"
   ]
  },
  {
   "cell_type": "code",
   "execution_count": null,
   "id": "60157199",
   "metadata": {},
   "outputs": [],
   "source": []
  }
 ],
 "metadata": {
  "kernelspec": {
   "display_name": "Python 3 (ipykernel)",
   "language": "python",
   "name": "python3"
  },
  "language_info": {
   "codemirror_mode": {
    "name": "ipython",
    "version": 3
   },
   "file_extension": ".py",
   "mimetype": "text/x-python",
   "name": "python",
   "nbconvert_exporter": "python",
   "pygments_lexer": "ipython3",
   "version": "3.9.7"
  }
 },
 "nbformat": 4,
 "nbformat_minor": 5
}
